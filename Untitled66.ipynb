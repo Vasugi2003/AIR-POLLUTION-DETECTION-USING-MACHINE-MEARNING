{
  "cells": [
    {
      "cell_type": "code",
      "execution_count": 2,
      "metadata": {
        "id": "u3yUr3UE0Gsa"
      },
      "outputs": [],
      "source": [
        "import pandas as pd\n",
        "from sklearn.model_selection import train_test_split\n",
        "from sklearn.svm import SVC\n",
        "from sklearn.metrics import accuracy_score\n",
        "\n",
        "# Load dataset\n",
        "dataset = pd.read_csv('D:/AML PROJECT/Model_APD/station_day.csv')\n",
        "\n"
      ]
    },
    {
      "cell_type": "code",
      "execution_count": 3,
      "metadata": {
        "id": "xQNkOaO70m-G"
      },
      "outputs": [],
      "source": [
        "import matplotlib\n",
        "import matplotlib .pyplot as plt\n",
        "import seaborn as sns\n"
      ]
    },
    {
      "cell_type": "code",
      "execution_count": 4,
      "metadata": {
        "colab": {
          "base_uri": "https://localhost:8080/",
          "height": 206
        },
        "id": "2k78EgcC0nA-",
        "outputId": "629b1b07-c835-49f0-b037-4fde4bcecc74"
      },
      "outputs": [
        {
          "data": {
            "text/html": [
              "<div>\n",
              "<style scoped>\n",
              "    .dataframe tbody tr th:only-of-type {\n",
              "        vertical-align: middle;\n",
              "    }\n",
              "\n",
              "    .dataframe tbody tr th {\n",
              "        vertical-align: top;\n",
              "    }\n",
              "\n",
              "    .dataframe thead th {\n",
              "        text-align: right;\n",
              "    }\n",
              "</style>\n",
              "<table border=\"1\" class=\"dataframe\">\n",
              "  <thead>\n",
              "    <tr style=\"text-align: right;\">\n",
              "      <th></th>\n",
              "      <th>StationId</th>\n",
              "      <th>Date</th>\n",
              "      <th>PM2.5</th>\n",
              "      <th>PM10</th>\n",
              "      <th>NO</th>\n",
              "      <th>NO2</th>\n",
              "      <th>NOx</th>\n",
              "      <th>NH3</th>\n",
              "      <th>CO</th>\n",
              "      <th>SO2</th>\n",
              "      <th>O3</th>\n",
              "      <th>Benzene</th>\n",
              "      <th>Toluene</th>\n",
              "      <th>Xylene</th>\n",
              "      <th>AQI</th>\n",
              "      <th>AQI_Bucket</th>\n",
              "    </tr>\n",
              "  </thead>\n",
              "  <tbody>\n",
              "    <tr>\n",
              "      <th>0</th>\n",
              "      <td>AP001</td>\n",
              "      <td>2017-11-24</td>\n",
              "      <td>71.36</td>\n",
              "      <td>115.75</td>\n",
              "      <td>1.75</td>\n",
              "      <td>20.65</td>\n",
              "      <td>12.40</td>\n",
              "      <td>12.19</td>\n",
              "      <td>0.10</td>\n",
              "      <td>10.76</td>\n",
              "      <td>109.26</td>\n",
              "      <td>0.17</td>\n",
              "      <td>5.92</td>\n",
              "      <td>0.10</td>\n",
              "      <td>NaN</td>\n",
              "      <td>NaN</td>\n",
              "    </tr>\n",
              "    <tr>\n",
              "      <th>1</th>\n",
              "      <td>AP001</td>\n",
              "      <td>2017-11-25</td>\n",
              "      <td>81.40</td>\n",
              "      <td>124.50</td>\n",
              "      <td>1.44</td>\n",
              "      <td>20.50</td>\n",
              "      <td>12.08</td>\n",
              "      <td>10.72</td>\n",
              "      <td>0.12</td>\n",
              "      <td>15.24</td>\n",
              "      <td>127.09</td>\n",
              "      <td>0.20</td>\n",
              "      <td>6.50</td>\n",
              "      <td>0.06</td>\n",
              "      <td>184.0</td>\n",
              "      <td>Moderate</td>\n",
              "    </tr>\n",
              "    <tr>\n",
              "      <th>2</th>\n",
              "      <td>AP001</td>\n",
              "      <td>2017-11-26</td>\n",
              "      <td>78.32</td>\n",
              "      <td>129.06</td>\n",
              "      <td>1.26</td>\n",
              "      <td>26.00</td>\n",
              "      <td>14.85</td>\n",
              "      <td>10.28</td>\n",
              "      <td>0.14</td>\n",
              "      <td>26.96</td>\n",
              "      <td>117.44</td>\n",
              "      <td>0.22</td>\n",
              "      <td>7.95</td>\n",
              "      <td>0.08</td>\n",
              "      <td>197.0</td>\n",
              "      <td>Moderate</td>\n",
              "    </tr>\n",
              "    <tr>\n",
              "      <th>3</th>\n",
              "      <td>AP001</td>\n",
              "      <td>2017-11-27</td>\n",
              "      <td>88.76</td>\n",
              "      <td>135.32</td>\n",
              "      <td>6.60</td>\n",
              "      <td>30.85</td>\n",
              "      <td>21.77</td>\n",
              "      <td>12.91</td>\n",
              "      <td>0.11</td>\n",
              "      <td>33.59</td>\n",
              "      <td>111.81</td>\n",
              "      <td>0.29</td>\n",
              "      <td>7.63</td>\n",
              "      <td>0.12</td>\n",
              "      <td>198.0</td>\n",
              "      <td>Moderate</td>\n",
              "    </tr>\n",
              "    <tr>\n",
              "      <th>4</th>\n",
              "      <td>AP001</td>\n",
              "      <td>2017-11-28</td>\n",
              "      <td>64.18</td>\n",
              "      <td>104.09</td>\n",
              "      <td>2.56</td>\n",
              "      <td>28.07</td>\n",
              "      <td>17.01</td>\n",
              "      <td>11.42</td>\n",
              "      <td>0.09</td>\n",
              "      <td>19.00</td>\n",
              "      <td>138.18</td>\n",
              "      <td>0.17</td>\n",
              "      <td>5.02</td>\n",
              "      <td>0.07</td>\n",
              "      <td>188.0</td>\n",
              "      <td>Moderate</td>\n",
              "    </tr>\n",
              "  </tbody>\n",
              "</table>\n",
              "</div>"
            ],
            "text/plain": [
              "  StationId        Date  PM2.5    PM10    NO    NO2    NOx    NH3    CO  \\\n",
              "0     AP001  2017-11-24  71.36  115.75  1.75  20.65  12.40  12.19  0.10   \n",
              "1     AP001  2017-11-25  81.40  124.50  1.44  20.50  12.08  10.72  0.12   \n",
              "2     AP001  2017-11-26  78.32  129.06  1.26  26.00  14.85  10.28  0.14   \n",
              "3     AP001  2017-11-27  88.76  135.32  6.60  30.85  21.77  12.91  0.11   \n",
              "4     AP001  2017-11-28  64.18  104.09  2.56  28.07  17.01  11.42  0.09   \n",
              "\n",
              "     SO2      O3  Benzene  Toluene  Xylene    AQI AQI_Bucket  \n",
              "0  10.76  109.26     0.17     5.92    0.10    NaN        NaN  \n",
              "1  15.24  127.09     0.20     6.50    0.06  184.0   Moderate  \n",
              "2  26.96  117.44     0.22     7.95    0.08  197.0   Moderate  \n",
              "3  33.59  111.81     0.29     7.63    0.12  198.0   Moderate  \n",
              "4  19.00  138.18     0.17     5.02    0.07  188.0   Moderate  "
            ]
          },
          "execution_count": 4,
          "metadata": {},
          "output_type": "execute_result"
        }
      ],
      "source": [
        "dataset.head()"
      ]
    },
    {
      "cell_type": "code",
      "execution_count": 5,
      "metadata": {
        "colab": {
          "base_uri": "https://localhost:8080/",
          "height": 630
        },
        "id": "ztWFmywo0nEY",
        "outputId": "141ea108-5ceb-44b8-f49a-dfd11c38993b"
      },
      "outputs": [
        {
          "name": "stderr",
          "output_type": "stream",
          "text": [
            "C:\\Users\\vasug\\AppData\\Local\\Temp\\ipykernel_19300\\3808086846.py:1: FutureWarning: \n",
            "\n",
            "Passing `palette` without assigning `hue` is deprecated and will be removed in v0.14.0. Assign the `x` variable to `hue` and set `legend=False` for the same effect.\n",
            "\n",
            "  sns.catplot(x = \"AQI_Bucket\", kind= \"count\", palette = \"ch: 2.87\", height=5, aspect=1.1, data = dataset)\n",
            "c:\\Users\\vasug\\AppData\\Local\\Programs\\Python\\Python311\\Lib\\site-packages\\seaborn\\axisgrid.py:123: UserWarning: The figure layout has changed to tight\n",
            "  self._figure.tight_layout(*args, **kwargs)\n"
          ]
        },
        {
          "data": {
            "text/plain": [
              "<seaborn.axisgrid.FacetGrid at 0x1f97de6be90>"
            ]
          },
          "execution_count": 5,
          "metadata": {},
          "output_type": "execute_result"
        },
        {
          "data": {
            "image/png": "[encoded data removed]",
            "text/plain": [
              "<Figure size 683.125x500 with 1 Axes>"
            ]
          },
          "metadata": {},
          "output_type": "display_data"
        }
      ],
      "source": [
        "sns.catplot(x = \"AQI_Bucket\", kind= \"count\", palette = \"ch: 2.87\", height=5, aspect=1.1, data = dataset)"
      ]
    },
    {
      "cell_type": "code",
      "execution_count": 6,
      "metadata": {
        "id": "ubLqY_Zc0nNI"
      },
      "outputs": [],
      "source": [
        "dataset = dataset.dropna(subset=[\"PM2.5\",\"PM10\",\"NO\",\"NO2\",\"NOx\",\"NH3\",\"CO\",\"SO2\",\"O3\",\"Benzene\",\"Toluene\",\"Xylene\",\"AQI\",\"AQI_Bucket\"])"
      ]
    },
    {
      "cell_type": "code",
      "execution_count": 7,
      "metadata": {
        "id": "QeB8xxOn0nQE"
      },
      "outputs": [],
      "source": [
        "X = dataset.drop(['AQI_Bucket','StationId','Date'], axis=1)\n"
      ]
    },
    {
      "cell_type": "code",
      "execution_count": 8,
      "metadata": {
        "colab": {
          "base_uri": "https://localhost:8080/"
        },
        "id": "RFsigM0Z0nSb",
        "outputId": "2f6ab12a-a74e-435d-ad8e-00bf322a3108"
      },
      "outputs": [
        {
          "data": {
            "text/plain": [
              "1         Moderate\n",
              "2         Moderate\n",
              "3         Moderate\n",
              "4         Moderate\n",
              "5         Moderate\n",
              "            ...   \n",
              "106143    Moderate\n",
              "106144        Poor\n",
              "106145        Poor\n",
              "106146        Poor\n",
              "106147        Poor\n",
              "Name: AQI_Bucket, Length: 10314, dtype: object"
            ]
          },
          "execution_count": 8,
          "metadata": {},
          "output_type": "execute_result"
        }
      ],
      "source": [
        "dataset.AQI_Bucket"
      ]
    },
    {
      "cell_type": "code",
      "execution_count": 9,
      "metadata": {
        "colab": {
          "base_uri": "https://localhost:8080/"
        },
        "id": "Y3pK6hfp0nVE",
        "outputId": "00c64515-535e-44dd-b9b3-c86754cdb18a"
      },
      "outputs": [
        {
          "data": {
            "text/plain": [
              "AQI_Bucket\n",
              "Moderate        4402\n",
              "Satisfactory    3730\n",
              "Good            1073\n",
              "Poor             610\n",
              "Very Poor        399\n",
              "Severe           100\n",
              "Name: count, dtype: int64"
            ]
          },
          "execution_count": 9,
          "metadata": {},
          "output_type": "execute_result"
        }
      ],
      "source": [
        "dataset['AQI_Bucket'].value_counts()"
      ]
    },
    {
      "cell_type": "code",
      "execution_count": 10,
      "metadata": {
        "colab": {
          "base_uri": "https://localhost:8080/"
        },
        "id": "4HlC5nKd0nYf",
        "outputId": "a28d3365-0c43-4d14-fa04-e9392b5cf547"
      },
      "outputs": [
        {
          "name": "stdout",
          "output_type": "stream",
          "text": [
            "['Moderate' 'Poor' 'Very Poor' 'Satisfactory' 'Good' 'Severe']\n",
            "[1 1 1 ... 2 2 2]\n",
            "[1 1 1 ... 2 2 2]\n"
          ]
        }
      ],
      "source": [
        "from sklearn.preprocessing import LabelEncoder\n",
        "class_labels = dataset.AQI_Bucket\n",
        "label_encoder = LabelEncoder()\n",
        "label_encoder.fit(class_labels)\n",
        "continuous_labels = label_encoder.transform(class_labels)\n",
        "print(class_labels.unique())\n",
        "print(continuous_labels)\n",
        "print(continuous_labels)\n"
      ]
    },
    {
      "cell_type": "code",
      "execution_count": 11,
      "metadata": {
        "id": "Y6kUoo0Q08At"
      },
      "outputs": [],
      "source": [
        "\n",
        "y = continuous_labels"
      ]
    },
    {
      "cell_type": "code",
      "execution_count": 12,
      "metadata": {
        "colab": {
          "base_uri": "https://localhost:8080/"
        },
        "id": "Z-oIqWc40986",
        "outputId": "c7ee8000-5843-46cd-98e5-bbe32730c858"
      },
      "outputs": [
        {
          "name": "stdout",
          "output_type": "stream",
          "text": [
            "         PM2.5    PM10      NO    NO2     NOx    NH3    CO    SO2      O3  \\\n",
            "1        81.40  124.50    1.44  20.50   12.08  10.72  0.12  15.24  127.09   \n",
            "2        78.32  129.06    1.26  26.00   14.85  10.28  0.14  26.96  117.44   \n",
            "3        88.76  135.32    6.60  30.85   21.77  12.91  0.11  33.59  111.81   \n",
            "4        64.18  104.09    2.56  28.07   17.01  11.42  0.09  19.00  138.18   \n",
            "5        72.47  114.84    5.23  23.20   16.59  12.25  0.16  10.55  109.74   \n",
            "...        ...     ...     ...    ...     ...    ...   ...    ...     ...   \n",
            "106143   80.93  174.84   82.96  56.74  139.70  29.32  1.18   9.36   15.96   \n",
            "106144  103.75  217.89  139.58  63.28  181.55  27.56  1.71  11.43   24.75   \n",
            "106145  115.40  225.76  193.19  70.41  213.77  35.25  2.11  10.49   22.11   \n",
            "106146   97.37  179.87  105.12  64.34  169.46  36.24  1.51   6.90   12.55   \n",
            "106147   89.13  179.89   78.47  56.37  134.84  37.98  1.30   8.13   23.21   \n",
            "\n",
            "        Benzene  Toluene  Xylene    AQI  \n",
            "1          0.20     6.50    0.06  184.0  \n",
            "2          0.22     7.95    0.08  197.0  \n",
            "3          0.29     7.63    0.12  198.0  \n",
            "4          0.17     5.02    0.07  188.0  \n",
            "5          0.21     4.71    0.08  173.0  \n",
            "...         ...      ...     ...    ...  \n",
            "106143    53.71    51.38    1.30  179.0  \n",
            "106144    53.58    55.10    2.29  226.0  \n",
            "106145    58.61    61.42    3.20  259.0  \n",
            "106146    64.90    62.12    2.16  250.0  \n",
            "106147    69.67    66.15    2.42  223.0  \n",
            "\n",
            "[10314 rows x 13 columns]\n"
          ]
        }
      ],
      "source": [
        "print(X)"
      ]
    },
    {
      "cell_type": "code",
      "execution_count": 13,
      "metadata": {
        "colab": {
          "base_uri": "https://localhost:8080/"
        },
        "id": "t4QHUKt10_0o",
        "outputId": "41ed842e-947b-48ef-8fdc-c6b5fa204179"
      },
      "outputs": [
        {
          "name": "stdout",
          "output_type": "stream",
          "text": [
            "[1 1 1 ... 2 2 2]\n"
          ]
        }
      ],
      "source": [
        "print(y)\n"
      ]
    },
    {
      "cell_type": "code",
      "execution_count": 14,
      "metadata": {
        "id": "X3O8RveB1CJ9"
      },
      "outputs": [],
      "source": [
        "X_train, X_test, y_train, y_test = train_test_split(X, y, test_size=0.3, random_state=30)"
      ]
    },
    {
      "cell_type": "code",
      "execution_count": 15,
      "metadata": {
        "id": "VKIBn-cg1Img"
      },
      "outputs": [],
      "source": [
        "from sklearn.preprocessing import StandardScaler\n",
        "xt = StandardScaler().fit_transform(X)"
      ]
    },
    {
      "cell_type": "code",
      "execution_count": 16,
      "metadata": {
        "colab": {
          "base_uri": "https://localhost:8080/",
          "height": 36
        },
        "id": "JtSnAvXH1KGO",
        "outputId": "8ffd9186-a77c-4d75-f214-c1f0756bf62b"
      },
      "outputs": [
        {
          "data": {
            "text/plain": [
              "'linear'"
            ]
          },
          "execution_count": 16,
          "metadata": {},
          "output_type": "execute_result"
        }
      ],
      "source": [
        "\n",
        "clf = SVC(kernel='linear')\n",
        "clf.kernel"
      ]
    },
    {
      "cell_type": "code",
      "execution_count": 17,
      "metadata": {
        "id": "uoiOzC5Y1N0j"
      },
      "outputs": [],
      "source": [
        "\n",
        "clf.fit(X_train, y_train)\n",
        "y_pred = clf.predict(X_test)"
      ]
    },
    {
      "cell_type": "code",
      "execution_count": 18,
      "metadata": {
        "colab": {
          "base_uri": "https://localhost:8080/"
        },
        "id": "_sYexMst1PeQ",
        "outputId": "fe10da56-e325-4427-de2f-3a9164e05b41"
      },
      "outputs": [
        {
          "name": "stdout",
          "output_type": "stream",
          "text": [
            "Accuracy: 0.9987075928917609\n"
          ]
        }
      ],
      "source": [
        "\n",
        "accuracy = accuracy_score(y_test, y_pred)\n",
        "\n",
        "print('Accuracy:',accuracy)"
      ]
    },
    {
      "cell_type": "code",
      "execution_count": 19,
      "metadata": {
        "colab": {
          "base_uri": "https://localhost:8080/"
        },
        "id": "EzC5FrVK1ROC",
        "outputId": "e900f0ce-5b26-4a39-d7e3-da7100babf43"
      },
      "outputs": [
        {
          "name": "stdout",
          "output_type": "stream",
          "text": [
            "MEAN SQUARED ERROR = 0.009046849757673668\n",
            "MEAN ABSOLUTE ERROR = 0.0032310177705977385\n",
            "PRECISION = 0.998724924776175\n",
            "RECALL VALUE =  0.9987075928917609\n",
            "F1 SCORE = 0.9987098013254005\n"
          ]
        }
      ],
      "source": [
        "from sklearn.metrics import mean_squared_error\n",
        "mse = mean_squared_error(y_test, y_pred)\n",
        "print(\"MEAN SQUARED ERROR =\",mse)\n",
        "\n",
        "from sklearn.metrics import mean_absolute_error\n",
        "mae = mean_absolute_error(y_test, y_pred)\n",
        "print(\"MEAN ABSOLUTE ERROR =\",mae)\n",
        "\n",
        "from sklearn.metrics import precision_score\n",
        "precision = precision_score(y_test, y_pred, average='weighted')\n",
        "print(\"PRECISION =\",precision)\n",
        "\n",
        "from sklearn.metrics import recall_score\n",
        "recall = recall_score(y_test, y_pred,average='weighted')\n",
        "print(\"RECALL VALUE = \",recall)\n",
        "\n",
        "from sklearn.metrics import f1_score\n",
        "f1 = f1_score(y_test, y_pred,average='weighted')\n",
        "print(\"F1 SCORE =\",f1)\n",
        "\n"
      ]
    },
    {
      "cell_type": "code",
      "execution_count": 20,
      "metadata": {
        "colab": {
          "base_uri": "https://localhost:8080/"
        },
        "id": "3fpP5ib41TM5",
        "outputId": "9e86853e-0857-434b-9d77-4c65394c9e0d"
      },
      "outputs": [
        {
          "name": "stdout",
          "output_type": "stream",
          "text": [
            "[[ 317    0    0    0    0    0]\n",
            " [   0 1363    0    0    0    0]\n",
            " [   0    0  192    0    0    2]\n",
            " [   0    0    0 1093    0    0]\n",
            " [   0    0    0    0   27    1]\n",
            " [   0    0    1    0    0   99]]\n"
          ]
        }
      ],
      "source": [
        "from sklearn.metrics import confusion_matrix\n",
        "confusion_matrix = confusion_matrix(y_test, y_pred)\n",
        "print(confusion_matrix)"
      ]
    },
    {
      "cell_type": "code",
      "execution_count": 21,
      "metadata": {
        "id": "uVZOwbUV1dBx"
      },
      "outputs": [],
      "source": [
        "import pickle"
      ]
    },
    {
      "cell_type": "code",
      "execution_count": 22,
      "metadata": {
        "id": "3bbosrkD2WE0"
      },
      "outputs": [],
      "source": [
        "with open('clf.pkl', 'wb') as file:\n",
        "    pickle.dump(clf, file)\n",
        "\n",
        "with open('label_encoder.pkl', 'wb') as encoder_file:\n",
        "    pickle.dump(label_encoder, encoder_file)"
      ]
    },
    {
      "cell_type": "code",
      "execution_count": 23,
      "metadata": {
        "colab": {
          "base_uri": "https://localhost:8080/"
        },
        "id": "kb7Me_MB2tZE",
        "outputId": "24777a97-101e-483f-ab38-eb257eb9517d"
      },
      "outputs": [
        {
          "name": "stdout",
          "output_type": "stream",
          "text": [
            "[0 0 3 ... 3 1 3]\n"
          ]
        }
      ],
      "source": [
        "# Load the model from the file\n",
        "with open('clf.pkl', 'rb') as file:\n",
        "    loaded_model = pickle.load(file)\n",
        "\n",
        "# Use the loaded model to make predictions\n",
        "predictions = loaded_model.predict(X_test)\n",
        "\n",
        "# Print the predictions\n",
        "print(predictions)\n"
      ]
    },
    {
      "cell_type": "code",
      "execution_count": 24,
      "metadata": {
        "colab": {
          "base_uri": "https://localhost:8080/"
        },
        "id": "dhrHiLtP2-Yv",
        "outputId": "0c4bfceb-4750-4769-e850-d97f92b63981"
      },
      "outputs": [
        {
          "name": "stdout",
          "output_type": "stream",
          "text": [
            "['Good' 'Good' 'Satisfactory' ... 'Satisfactory' 'Moderate' 'Satisfactory']\n"
          ]
        }
      ],
      "source": [
        "# Load the model and the label encoder from the files\n",
        "with open('clf.pkl', 'rb') as model_file:\n",
        "    loaded_model = pickle.load(model_file)\n",
        "with open('label_encoder.pkl', 'rb') as encoder_file:\n",
        "    loaded_label_encoder = pickle.load(encoder_file)\n",
        "\n",
        "# Use the loaded model to make predictions\n",
        "predictions = loaded_model.predict(X_test)\n",
        "\n",
        "# Convert the continuous labels back to original class labels\n",
        "original_labels = loaded_label_encoder.inverse_transform(predictions)\n",
        "\n",
        "# Print the predictions\n",
        "print(original_labels)\n"
      ]
    },
    {
      "cell_type": "code",
      "execution_count": null,
      "metadata": {
        "id": "Cweidtc74QUK"
      },
      "outputs": [],
      "source": []
    },
    {
      "cell_type": "code",
      "execution_count": null,
      "metadata": {},
      "outputs": [],
      "source": []
    }
  ],
  "metadata": {
    "accelerator": "GPU",
    "colab": {
      "gpuType": "T4",
      "provenance": []
    },
    "kernelspec": {
      "display_name": "Python 3",
      "name": "python3"
    },
    "language_info": {
      "codemirror_mode": {
        "name": "ipython",
        "version": 3
      },
      "file_extension": ".py",
      "mimetype": "text/x-python",
      "name": "python",
      "nbconvert_exporter": "python",
      "pygments_lexer": "ipython3",
      "version": "3.11.6"
    }
  },
  "nbformat": 4,
  "nbformat_minor": 0
}
